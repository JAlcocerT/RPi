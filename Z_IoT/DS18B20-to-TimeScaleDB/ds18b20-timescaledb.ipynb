{
 "cells": [
  {
   "cell_type": "markdown",
   "id": "5ea5450f",
   "metadata": {},
   "source": [
    "### Reading DS18B20 with python"
   ]
  },
  {
   "cell_type": "code",
   "execution_count": null,
   "id": "5fdccc85",
   "metadata": {
    "vscode": {
     "languageId": "plaintext"
    }
   },
   "outputs": [],
   "source": [
    "import os \n",
    "import glob\n",
    "import time\n",
    "\n",
    "os.system('modprobe w1-gpio') \n",
    "os.system('modprobe w1-therm')"
   ]
  },
  {
   "cell_type": "code",
   "execution_count": null,
   "id": "ca0bb9d8",
   "metadata": {
    "vscode": {
     "languageId": "plaintext"
    }
   },
   "outputs": [],
   "source": [
    "\n",
    "\n",
    "base_dir = '/sys/bus/w1/devices/' \n",
    "device_folder = glob.glob(base_dir + '28*')[0] \n",
    "device_file = device_folder + '/w1_slave'\n",
    "\n",
    "def read_temp_raw():\n",
    "    f = open(device_file, 'r')\n",
    "    lines = f.readlines()\n",
    "    f.close()\n",
    "    return lines\n",
    " \n",
    "\n",
    "def read_temp(scale):\n",
    "     lines = read_temp_raw()\n",
    "     while lines[0].strip()[-3:] != 'YES':\n",
    "          time.sleep(0.2)\n",
    "          lines = read_temp_raw() \n",
    "     equals_pos = lines[1].find('t=') \n",
    "     if equals_pos != -1:\n",
    "          temp_string = lines[1][equals_pos+2:] \n",
    "          temp_c = float(temp_string) / 1000.0 \n",
    "          temp_f = temp_c * 9.0 / 5.0 + 32.0 \n",
    "          if scale == \"F\":\n",
    "               return \"{:.1f}\".format(temp_f)\n",
    "          if scale ==\"C\":\n",
    "               return \"{:.1f}\".format(temp_c)     \n",
    "          else:\n",
    "               return temp_c, temp_f\n",
    "\n",
    "while True:\n",
    "     print(read_temp(\"C\"))\n",
    "     time.sleep(1)"
   ]
  },
  {
   "cell_type": "markdown",
   "id": "e6ad0606",
   "metadata": {},
   "source": [
    "### Pushing DS18B20 Data to Timescale"
   ]
  },
  {
   "cell_type": "code",
   "execution_count": null,
   "id": "c35266ac",
   "metadata": {
    "vscode": {
     "languageId": "plaintext"
    }
   },
   "outputs": [],
   "source": [
    "import os \n",
    "import glob\n",
    "import time\n",
    "import psycopg2\n",
    "\n",
    "# Configure TimescaleDB connection\n",
    "db_params = {\n",
    "    'host': 'timescaledb',  # Use the service name defined in your docker-compose.yml\n",
    "    'port': 5432,           # Default PostgreSQL port for TimescaleDB\n",
    "    'user': 'myuser',       # Replace with your PostgreSQL username\n",
    "    'password': 'mypassword',  # Replace with your PostgreSQL password\n",
    "    'database': 'mydb'      # Replace with the name of your PostgreSQL database\n",
    "}\n",
    "\n",
    "# Create a connection\n",
    "conn = psycopg2.connect(**db_params)\n",
    "cur = conn.cursor()\n",
    "\n",
    "# Create the necessary table if it doesn't exist\n",
    "create_table_query = '''\n",
    "    CREATE TABLE IF NOT EXISTS ds18b20_sensor (\n",
    "        time TIMESTAMPTZ NOT NULL,\n",
    "        temperature FLOAT\n",
    "    );\n",
    "'''\n",
    "cur.execute(create_table_query)\n",
    "conn.commit()\n",
    "\n",
    "os.system('modprobe w1-gpio') \n",
    "os.system('modprobe w1-therm')\n",
    "\n",
    "base_dir = '/sys/bus/w1/devices/' \n",
    "device_folder = glob.glob(base_dir + '28*')[0] \n",
    "device_file = device_folder + '/w1_slave'\n",
    "\n",
    "def read_temp_raw():\n",
    "    with open(device_file, 'r') as f:\n",
    "        lines = f.readlines()\n",
    "    return lines\n",
    "\n",
    "def read_temp(scale):\n",
    "    lines = read_temp_raw()\n",
    "    while lines[0].strip()[-3:] != 'YES':\n",
    "        time.sleep(0.2)\n",
    "        lines = read_temp_raw()\n",
    "    \n",
    "    equals_pos = lines[1].find('t=')\n",
    "    if equals_pos != -1:\n",
    "        temp_c = float(lines[1][equals_pos+2:]) / 1000.0\n",
    "        return convert_temp(temp_c, scale)\n",
    "\n",
    "def convert_temp(temp_c, scale):\n",
    "    if scale == TEMP_SCALE_F:\n",
    "        return temp_c * 9.0 / 5.0 + 32.0\n",
    "    elif scale == TEMP_SCALE_C:\n",
    "        return temp_c\n",
    "    else:\n",
    "        raise ValueError(\"Invalid temperature scale\")\n",
    "\n",
    "# Constants for Temperature Conversion\n",
    "TEMP_SCALE_F = \"F\"\n",
    "TEMP_SCALE_C = \"C\"\n",
    "\n",
    "while True:\n",
    "    ds18b20_temp = read_temp(TEMP_SCALE_C)\n",
    "        \n",
    "    if ds18b20_temp is not None:\n",
    "        insert_data_query = f'''\n",
    "            INSERT INTO ds18b20_sensor (time, temperature)\n",
    "            VALUES (NOW(), {ds18b20_temp});\n",
    "        '''\n",
    "        cur.execute(insert_data_query)\n",
    "    \n",
    "    conn.commit()\n",
    "    print(\"Data sent to TimescaleDB\")\n",
    "    time.sleep(3)\n",
    "\n",
    "# Close the connection when done\n",
    "cur.close()\n",
    "conn.close()"
   ]
  }
 ],
 "metadata": {
  "language_info": {
   "name": "python"
  }
 },
 "nbformat": 4,
 "nbformat_minor": 5
}
